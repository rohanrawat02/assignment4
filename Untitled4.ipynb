{
 "cells": [
  {
   "cell_type": "code",
   "execution_count": 1,
   "id": "b5a5d046-322e-4dfe-abf7-a07bef30634a",
   "metadata": {},
   "outputs": [
    {
     "name": "stdout",
     "output_type": "stream",
     "text": [
      "Virat Kohli: 24936\n",
      "Jack Kallis: 25534\n",
      "Ricky Ponting: 27483\n",
      "Sachin Tendulkar: 34357\n"
     ]
    }
   ],
   "source": [
    "#ques1\n",
    "\n",
    "data = [('Sachin Tendulkar', 34357), ('Ricky Ponting', 27483), ('Jack Kallis', 25534), ('Virat Kohli', 24936)]\n",
    "\n",
    "sorted_data = sorted(data, key=lambda x: x[1])\n",
    "\n",
    "for player, score in sorted_data:\n",
    "    print(f\"{player}: {score}\")\n"
   ]
  },
  {
   "cell_type": "code",
   "execution_count": 3,
   "id": "a8cd17c2-64aa-4328-9655-0afadbef5a92",
   "metadata": {},
   "outputs": [
    {
     "name": "stdout",
     "output_type": "stream",
     "text": [
      "Original List: [1, 2, 3, 4, 5, 6, 7, 8, 9, 10]\n",
      "Squares List: [1, 4, 9, 16, 25, 36, 49, 64, 81, 100]\n"
     ]
    }
   ],
   "source": [
    "#ques2\n",
    "\n",
    "# Function to find squares using lambda and map\n",
    "def find_squares(numbers):\n",
    "    # Using lambda function to calculate square\n",
    "    square = lambda x: x**2\n",
    "\n",
    "    # Using map function to apply the lambda function to each element in the list\n",
    "    squared_numbers = list(map(square, numbers))\n",
    "\n",
    "    return squared_numbers\n",
    "\n",
    "# Test the program\n",
    "if __name__ == \"__main__\":\n",
    "    # Example list of integers\n",
    "    input_list = [1, 2, 3, 4, 5,6,7,8,9,10]\n",
    "\n",
    "    # Find the squares of the numbers in the list\n",
    "    result = find_squares(input_list)\n",
    "\n",
    "    # Display the result\n",
    "    print(\"Original List:\", input_list)\n",
    "    print(\"Squares List:\", result)\n"
   ]
  },
  {
   "cell_type": "code",
   "execution_count": 5,
   "id": "090233c3-381c-4257-9ee2-8876b8dae137",
   "metadata": {},
   "outputs": [
    {
     "name": "stdout",
     "output_type": "stream",
     "text": [
      "Given List: [1, 2, 3, 4, 5, 6, 7, 8, 9, 10]\n",
      "Tuple of Strings: ('1', '2', '3', '4', '5', '6', '7', '8', '9', '10')\n"
     ]
    }
   ],
   "source": [
    "#ques3\n",
    "# Function to convert integers to strings using lambda and map\n",
    "def convert_to_tuple_of_strings(numbers):\n",
    "    # Using lambda function to convert integer to string\n",
    "    convert_to_string = lambda x: str(x)\n",
    "\n",
    "    # Using map function to apply the lambda function to each element in the list\n",
    "    tuple_of_strings = tuple(map(convert_to_string, numbers))\n",
    "\n",
    "    return tuple_of_strings\n",
    "\n",
    "# Test the program\n",
    "if __name__ == \"__main__\":\n",
    "    # Given list of integers\n",
    "    input_list = [1, 2, 3, 4, 5, 6, 7, 8, 9, 10]\n",
    "\n",
    "    # Convert the list of integers to a tuple of strings\n",
    "    result = convert_to_tuple_of_strings(input_list)\n",
    "\n",
    "    # Display the result\n",
    "    print(\"Given List:\", input_list)\n",
    "    print(\"Tuple of Strings:\", result)\n"
   ]
  },
  {
   "cell_type": "code",
   "execution_count": 6,
   "id": "098a95cf-1a21-4bc0-bc51-9fdde37ca3b7",
   "metadata": {},
   "outputs": [
    {
     "name": "stdout",
     "output_type": "stream",
     "text": [
      "List of numbers: [1, 2, 3, 4, 5, 6, 7, 8, 9, 10, 11, 12, 13, 14, 15, 16, 17, 18, 19, 20, 21, 22, 23, 24, 25]\n",
      "Product of the list: 15511210043330985984000000\n"
     ]
    }
   ],
   "source": [
    "#ques4\n",
    "from functools import reduce\n",
    "\n",
    "# Function to compute the product of two numbers\n",
    "def multiply(x, y):\n",
    "    return x * y\n",
    "\n",
    "# Generate the list of numbers from 1 to 25\n",
    "numbers_list = list(range(1, 26))\n",
    "\n",
    "# Compute the product of the numbers in the list using reduce and multiply function\n",
    "product = reduce(multiply, numbers_list)\n",
    "\n",
    "# Display the result\n",
    "print(\"List of numbers:\", numbers_list)\n",
    "print(\"Product of the list:\", product)\n"
   ]
  },
  {
   "cell_type": "code",
   "execution_count": 7,
   "id": "c307439c-4317-4b95-b33f-d3d43117b07d",
   "metadata": {},
   "outputs": [
    {
     "name": "stdout",
     "output_type": "stream",
     "text": [
      "Given List: [1, 2, 3, 4, 5, 6, 7, 8, 9, 10, 11, 12, 13, 14, 15]\n",
      "Numbers divisible by 2 and 3: [6, 12]\n"
     ]
    }
   ],
   "source": [
    "#ques5\n",
    "# Function to check if a number is divisible by 2 and 3\n",
    "def divisible_by_2_and_3(number):\n",
    "    return number % 2 == 0 and number % 3 == 0\n",
    "\n",
    "# Given list of numbers\n",
    "numbers_list = [1, 2, 3, 4, 5, 6, 7, 8, 9, 10, 11, 12, 13, 14, 15]\n",
    "\n",
    "# Filter numbers that are divisible by 2 and 3 using filter function\n",
    "filtered_numbers = list(filter(divisible_by_2_and_3, numbers_list))\n",
    "\n",
    "# Display the result\n",
    "print(\"Given List:\", numbers_list)\n",
    "print(\"Numbers divisible by 2 and 3:\", filtered_numbers)\n"
   ]
  },
  {
   "cell_type": "code",
   "execution_count": null,
   "id": "97435fdd-39be-4fd0-9763-8ee4d61311c0",
   "metadata": {},
   "outputs": [],
   "source": []
  }
 ],
 "metadata": {
  "kernelspec": {
   "display_name": "Python 3 (ipykernel)",
   "language": "python",
   "name": "python3"
  },
  "language_info": {
   "codemirror_mode": {
    "name": "ipython",
    "version": 3
   },
   "file_extension": ".py",
   "mimetype": "text/x-python",
   "name": "python",
   "nbconvert_exporter": "python",
   "pygments_lexer": "ipython3",
   "version": "3.10.8"
  }
 },
 "nbformat": 4,
 "nbformat_minor": 5
}
